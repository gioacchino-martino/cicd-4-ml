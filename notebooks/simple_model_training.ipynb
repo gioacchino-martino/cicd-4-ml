{
 "cells": [
  {
   "cell_type": "code",
   "execution_count": null,
   "metadata": {
    "id": "ur8xi4C7S06n"
   },
   "outputs": [],
   "source": [
    "# Copyright 2022 Google LLC\n",
    "#\n",
    "# Licensed under the Apache License, Version 2.0 (the \"License\");\n",
    "# you may not use this file except in compliance with the License.\n",
    "# You may obtain a copy of the License at\n",
    "#\n",
    "#     https://www.apache.org/licenses/LICENSE-2.0\n",
    "#\n",
    "# Unless required by applicable law or agreed to in writing, software\n",
    "# distributed under the License is distributed on an \"AS IS\" BASIS,\n",
    "# WITHOUT WARRANTIES OR CONDITIONS OF ANY KIND, either express or implied.\n",
    "# See the License for the specific language governing permissions and\n",
    "# limitations under the License."
   ]
  },
  {
   "cell_type": "markdown",
   "metadata": {
    "id": "JAPoU8Sm5E6e"
   },
   "source": [
    "# Codemotion 2022: Training a Fraud Detection model\n",
    "\n",
    "<table align=\"left\">\n",
    "\n",
    "  <td>\n",
    "    <a href=\"https://colab.research.google.com/github/gioacchino-martino/cicd-4-ml/blob/main/notebooks/simple_model_training.ipynb\">\n",
    "      <img src=\"https://cloud.google.com/ml-engine/images/colab-logo-32px.png\" alt=\"Colab logo\"> Run in Colab\n",
    "    </a>\n",
    "  </td>\n",
    "  <td>\n",
    "    <a href=\"https://github.com/gioacchino-martino/cicd-4-ml/blob/main/notebooks/simple_model_training.ipynb\">\n",
    "      <img src=\"https://cloud.google.com/ml-engine/images/github-logo-32px.png\" alt=\"GitHub logo\">\n",
    "      View on GitHub\n",
    "    </a>\n",
    "  </td>\n",
    "  <td>\n",
    "    <a href=\"https://console.cloud.google.com/vertex-ai/workbench/deploy-notebook?download_url=https://raw.githubusercontent.com/GoogleCloudPlatform/vertex-ai-samples/main/notebooks/notebook_template.ipynb\">\n",
    "      <img src=\"https://lh3.googleusercontent.com/UiNooY4LUgW_oTvpsNhPpQzsstV5W8F7rYgxgGBD85cWJoLmrOzhVs_ksK_vgx40SHs7jCqkTkCk=e14-rj-sc0xffffff-h130-w32\" alt=\"Vertex AI logo\">\n",
    "      Open in Vertex AI Workbench\n",
    "    </a>\n",
    "  </td>                                                                                               \n",
    "</table>"
   ]
  },
  {
   "cell_type": "markdown",
   "metadata": {
    "id": "tvgnzT1CKxrO"
   },
   "source": [
    "## Overview\n",
    "\n",
    "In this tutorial, you will simulate a simple model training"
   ]
  },
  {
   "cell_type": "markdown",
   "metadata": {
    "id": "d975e698c9a4"
   },
   "source": [
    "### Objective\n",
    "\n",
    "In this tutorial, you learn how to train a model. \n",
    "\n",
    "This tutorial uses the following Google Cloud ML services and resources:\n",
    "\n",
    "- BigQuery\n",
    "- Vertex AI\n",
    "\n",
    "The steps performed include:\n",
    "\n",
    "- Read the data from BigQuery\n",
    "- Train a simple scikit-learn model\n",
    "- Store the artefact on the cloud bucket"
   ]
  },
  {
   "cell_type": "markdown",
   "metadata": {
    "id": "08d289fa873f"
   },
   "source": [
    "### Dataset\n",
    "\n",
    "The datasets contain transactions made by credit cards in September 2013 by european cardholders. This dataset presents transactions that occurred in two days, where we have 492 frauds out of 284,807 transactions. It is highly unbalanced, the positive class (frauds) account for 0.172% of all transactions.\n",
    "\n",
    "The dataset has been collected and analysed during a research collaboration of Worldline and the Machine Learning Group ( http://mlg.ulb.ac.be) of ULB (Université Libre de Bruxelles) on big data mining and fraud detection.\n",
    "\n"
   ]
  },
  {
   "cell_type": "markdown",
   "metadata": {
    "id": "aed92deeb4a0"
   },
   "source": [
    "### Costs \n",
    "\n",
    "This tutorial uses billable components of Google Cloud:\n",
    "\n",
    "* Vertex AI\n",
    "* BigQyuery\n",
    "* Cloud Storage\n",
    "\n",
    "Learn about [Vertex AI pricing](https://cloud.google.com/vertex-ai/pricing),\n",
    "[BigQuery pricing](https://cloud.google.com/bigquery/pricing),\n",
    "and [Cloud Storage pricing](https://cloud.google.com/storage/pricing), \n",
    "and use the [Pricing Calculator](https://cloud.google.com/products/calculator/)\n",
    "to generate a cost estimate based on your projected usage."
   ]
  },
  {
   "cell_type": "markdown",
   "metadata": {
    "id": "gCuSR8GkAgzl"
   },
   "source": [
    "### Set up your local development environment\n",
    "\n",
    "**If you are using Colab or Vertex AI Workbench Notebooks**, your environment already meets\n",
    "all the requirements to run this notebook. You can skip this step."
   ]
  },
  {
   "cell_type": "markdown",
   "metadata": {
    "id": "24743cf4a1e1"
   },
   "source": [
    "**_NOTE_**: This notebook has been tested in the following environment:\n",
    "\n",
    "* Python version = 3.9"
   ]
  },
  {
   "cell_type": "markdown",
   "metadata": {
    "id": "hDROBIIBld2N"
   },
   "source": [
    "**Otherwise**, make sure your environment meets this notebook's requirements.\n",
    "You need the following:\n",
    "\n",
    "* The Google Cloud SDK\n",
    "\n",
    "The Google Cloud guide to [Setting up a Python development\n",
    "environment](https://cloud.google.com/python/setup) and the [Jupyter\n",
    "installation guide](https://jupyter.org/install) provide detailed instructions\n",
    "for meeting these requirements. The following steps provide a condensed set of\n",
    "instructions:\n",
    "\n",
    "1. [Install and initialize the Cloud SDK.](https://cloud.google.com/sdk/docs/)\n",
    "\n",
    "1. [Install Python 3.](https://cloud.google.com/python/setup#installing_python)\n",
    "\n",
    "1. [Install\n",
    "   virtualenv](https://cloud.google.com/python/setup#installing_and_using_virtualenv)\n",
    "   and create a virtual environment that uses Python 3. Activate the virtual environment.\n",
    "\n",
    "1. To install Jupyter, run `pip3 install jupyter` on the\n",
    "command-line in a terminal shell.\n",
    "\n",
    "1. To launch Jupyter, run `jupyter notebook` on the command-line in a terminal shell.\n",
    "\n",
    "1. Open this notebook in the Jupyter Notebook Dashboard."
   ]
  },
  {
   "cell_type": "markdown",
   "metadata": {
    "id": "i7EUnXsZhAGF"
   },
   "source": [
    "## Installation\n",
    "\n",
    "Install the following packages required to execute this notebook. \n",
    "\n",
    "{TODO: Suggest using the latest major GA version of each package; i.e., --upgrade}"
   ]
  },
  {
   "cell_type": "code",
   "execution_count": 1,
   "metadata": {
    "colab": {
     "base_uri": "https://localhost:8080/"
    },
    "id": "2b4ef9b72d43",
    "outputId": "261aabf1-a71f-490b-ff0f-aaf70c44ff2b"
   },
   "outputs": [
    {
     "name": "stdout",
     "output_type": "stream",
     "text": [
      "\u001b[33m  WARNING: The script tb-gcp-uploader is installed in '/home/jupyter/.local/bin' which is not on PATH.\n",
      "  Consider adding this directory to PATH or, if you prefer to suppress this warning, use --no-warn-script-location.\u001b[0m\u001b[33m\n",
      "\u001b[0m"
     ]
    }
   ],
   "source": [
    "import os\n",
    "\n",
    "# The Vertex AI Workbench Notebook product has specific requirements\n",
    "IS_WORKBENCH_NOTEBOOK = os.getenv(\"DL_ANACONDA_HOME\")\n",
    "IS_USER_MANAGED_WORKBENCH_NOTEBOOK = os.path.exists(\n",
    "    \"/opt/deeplearning/metadata/env_version\"\n",
    ")\n",
    "\n",
    "# Vertex AI Notebook requires dependencies to be installed with '--user'\n",
    "USER_FLAG = \"\"\n",
    "if IS_WORKBENCH_NOTEBOOK:\n",
    "    USER_FLAG = \"--user\"\n",
    "\n",
    "! pip3 install --upgrade numpy pandas scikit-learn xgboost google-cloud-bigquery google-cloud-aiplatform {USER_FLAG} -q"
   ]
  },
  {
   "cell_type": "markdown",
   "metadata": {
    "id": "hhq5zEbGg0XX"
   },
   "source": [
    "### Restart the kernel\n",
    "\n",
    "After you install the additional packages, you need to restart the notebook kernel so it can find the packages."
   ]
  },
  {
   "cell_type": "code",
   "execution_count": null,
   "metadata": {
    "id": "EzrelQZ22IZj"
   },
   "outputs": [],
   "source": [
    "# Automatically restart kernel after installs\n",
    "import os\n",
    "\n",
    "if not os.getenv(\"IS_TESTING\"):\n",
    "    # Automatically restart kernel after installs\n",
    "    import IPython\n",
    "\n",
    "    app = IPython.Application.instance()\n",
    "    app.kernel.do_shutdown(True)"
   ]
  },
  {
   "cell_type": "markdown",
   "metadata": {
    "id": "BF1j6f9HApxa"
   },
   "source": [
    "## Before you begin\n",
    "\n",
    "### Set up your Google Cloud project\n",
    "\n",
    "**The following steps are required, regardless of your notebook environment.**\n",
    "\n",
    "1. [Select or create a Google Cloud project](https://console.cloud.google.com/cloud-resource-manager). When you first create an account, you get a $300 free credit towards your compute/storage costs.\n",
    "\n",
    "1. [Make sure that billing is enabled for your project](https://cloud.google.com/billing/docs/how-to/modify-project).\n",
    "\n",
    "1. [Enable APIs](https://console.cloud.google.com/flows/enableapi?apiid=aiplatform.googleapis.com).\n",
    "\n",
    "1. If you are running this notebook locally, you need to install the [Cloud SDK](https://cloud.google.com/sdk).\n",
    "\n",
    "1. Enter your project ID in the cell below. Then run the cell to make sure the\n",
    "Cloud SDK uses the right project for all the commands in this notebook.\n",
    "\n",
    "**Note**: Jupyter runs lines prefixed with `!` as shell commands, and it interpolates Python variables prefixed with `$` into these commands."
   ]
  },
  {
   "cell_type": "markdown",
   "metadata": {
    "id": "WReHDGG5g0XY"
   },
   "source": [
    "#### Set your project ID\n",
    "\n",
    "**If you don't know your project ID**, you may be able to get your project ID using `gcloud`."
   ]
  },
  {
   "cell_type": "code",
   "execution_count": 1,
   "metadata": {
    "id": "oM1iC_MfAts1"
   },
   "outputs": [],
   "source": [
    "PROJECT_ID = \"[your-project-id]\"  # @param {type:\"string\"}"
   ]
  },
  {
   "cell_type": "code",
   "execution_count": 2,
   "metadata": {
    "id": "riG_qUokg0XZ"
   },
   "outputs": [
    {
     "name": "stdout",
     "output_type": "stream",
     "text": [
      "Project ID: cicd-4ml\n"
     ]
    }
   ],
   "source": [
    "if PROJECT_ID == \"\" or PROJECT_ID is None or PROJECT_ID == \"[your-project-id]\":\n",
    "    # Get your GCP project id from gcloud\n",
    "    shell_output = ! gcloud config list --format 'value(core.project)' 2>/dev/null\n",
    "    PROJECT_ID = shell_output[0]\n",
    "    print(\"Project ID:\", PROJECT_ID)"
   ]
  },
  {
   "cell_type": "code",
   "execution_count": 3,
   "metadata": {
    "colab": {
     "base_uri": "https://localhost:8080/"
    },
    "id": "set_gcloud_project_id",
    "outputId": "be244428-e141-400c-a38f-971c2e896c02"
   },
   "outputs": [
    {
     "name": "stdout",
     "output_type": "stream",
     "text": [
      "Updated property [core/project].\n"
     ]
    }
   ],
   "source": [
    "! gcloud config set project $PROJECT_ID"
   ]
  },
  {
   "cell_type": "markdown",
   "metadata": {
    "id": "region"
   },
   "source": [
    "#### Region\n",
    "\n",
    "You can also change the `REGION` variable, which is used for operations\n",
    "throughout the rest of this notebook.  Below are regions supported for Vertex AI. It is recommended that you choose the region closest to you.\n",
    "\n",
    "- Americas: `us-central1`\n",
    "- Europe: `europe-west4`\n",
    "- Asia Pacific: `asia-east1`\n",
    "\n",
    "You may not use a multi-regional bucket for training with Vertex AI. Not all regions provide support for all Vertex AI services.\n",
    "\n",
    "Learn more about [Vertex AI regions](https://cloud.google.com/vertex-ai/docs/general/locations)."
   ]
  },
  {
   "cell_type": "code",
   "execution_count": 5,
   "metadata": {
    "id": "nCZ7TDPXld2S"
   },
   "outputs": [],
   "source": [
    "REGION = \"[your-region]\"  # @param {type: \"string\"}\n",
    "\n",
    "if REGION == \"[your-region]\":\n",
    "    REGION = \"europe-west1\""
   ]
  },
  {
   "cell_type": "markdown",
   "metadata": {
    "id": "06571eb4063b"
   },
   "source": [
    "#### UUID\n",
    "\n",
    "If you are in a live tutorial session, you might be using a shared test account or project. To avoid name collisions between users on resources created, you create a uuid for each instance session, and append it onto the name of resources you create in this tutorial."
   ]
  },
  {
   "cell_type": "code",
   "execution_count": 6,
   "metadata": {
    "id": "697568e92bd6"
   },
   "outputs": [],
   "source": [
    "import random\n",
    "import string\n",
    "\n",
    "\n",
    "# Generate a uuid of a specifed length(default=8)\n",
    "def generate_uuid(length: int = 8) -> str:\n",
    "    return \"\".join(random.choices(string.ascii_lowercase + string.digits, k=length))\n",
    "\n",
    "\n",
    "UUID = generate_uuid()"
   ]
  },
  {
   "cell_type": "markdown",
   "metadata": {
    "id": "sBCra4QMA2wR"
   },
   "source": [
    "### Authenticate your Google Cloud account\n",
    "\n",
    "**If you are using Vertex AI Workbench Notebooks**, your environment is already\n",
    "authenticated. \n",
    "\n",
    "**If you are using Colab**, run the cell below and follow the instructions\n",
    "when prompted to authenticate your account via oAuth.\n",
    "\n",
    "**Otherwise**, follow these steps:\n",
    "\n",
    "1. In the Cloud Console, go to the [**Create service account key**\n",
    "   page](https://console.cloud.google.com/apis/credentials/serviceaccountkey).\n",
    "\n",
    "2. Click **Create service account**.\n",
    "\n",
    "3. In the **Service account name** field, enter a name, and\n",
    "   click **Create**.\n",
    "\n",
    "4. In the **Grant this service account access to project** section, click the **Role** drop-down list. Type \"Vertex AI\"\n",
    "into the filter box, and select\n",
    "   **Vertex AI Administrator**. Type \"Storage Object Admin\" into the filter box, and select **Storage Object Admin**.\n",
    "\n",
    "5. Click *Create*. A JSON file that contains your key downloads to your\n",
    "local environment.\n",
    "\n",
    "6. Enter the path to your service account key as the\n",
    "`GOOGLE_APPLICATION_CREDENTIALS` variable in the cell below and run the cell."
   ]
  },
  {
   "cell_type": "code",
   "execution_count": 7,
   "metadata": {
    "id": "PyQmSRbKA8r-"
   },
   "outputs": [],
   "source": [
    "# If you are running this notebook in Colab, run this cell and follow the\n",
    "# instructions to authenticate your GCP account. This provides access to your\n",
    "# Cloud Storage bucket and lets you submit training jobs and prediction\n",
    "# requests.\n",
    "\n",
    "import os\n",
    "import sys\n",
    "\n",
    "# If on Vertex AI Workbench, then don't execute this code\n",
    "IS_COLAB = \"google.colab\" in sys.modules\n",
    "if not os.path.exists(\"/opt/deeplearning/metadata/env_version\") and not os.getenv(\n",
    "    \"DL_ANACONDA_HOME\"\n",
    "):\n",
    "    if \"google.colab\" in sys.modules:\n",
    "        from google.colab import auth as google_auth\n",
    "\n",
    "        google_auth.authenticate_user()\n",
    "\n",
    "    # If you are running this notebook locally, replace the string below with the\n",
    "    # path to your service account key and run this cell to authenticate your GCP\n",
    "    # account.\n",
    "    elif not os.getenv(\"IS_TESTING\"):\n",
    "        %env GOOGLE_APPLICATION_CREDENTIALS '[your-service-account-key-path]'"
   ]
  },
  {
   "cell_type": "markdown",
   "metadata": {
    "id": "23988890fef6"
   },
   "source": [
    "### Get your project number\n",
    "\n",
    "Now that the project ID is set, you get your corresponding project number."
   ]
  },
  {
   "cell_type": "code",
   "execution_count": 8,
   "metadata": {
    "colab": {
     "base_uri": "https://localhost:8080/"
    },
    "id": "2d6950574e1d",
    "outputId": "0dae747f-3e35-416c-86f2-1b7953454645"
   },
   "outputs": [
    {
     "name": "stdout",
     "output_type": "stream",
     "text": [
      "Project Number: 1002168816574\n"
     ]
    }
   ],
   "source": [
    "shell_output = ! gcloud projects list --filter=\"PROJECT_ID:'{PROJECT_ID}'\" --format='value(PROJECT_NUMBER)'\n",
    "PROJECT_NUMBER = shell_output[0]\n",
    "print(\"Project Number:\", PROJECT_NUMBER)"
   ]
  },
  {
   "cell_type": "markdown",
   "metadata": {
    "id": "zgPO1eR3CYjk"
   },
   "source": [
    "### Create a Cloud Storage bucket\n",
    "\n",
    "**The following steps are required, regardless of your notebook environment.**\n",
    "\n",
    "Set the name of your Cloud Storage bucket below. It must be unique across all\n",
    "Cloud Storage buckets."
   ]
  },
  {
   "cell_type": "code",
   "execution_count": 9,
   "metadata": {
    "id": "MzGDU7TWdts_"
   },
   "outputs": [],
   "source": [
    "BUCKET_NAME = \"cicd-4ml_models\"  # @param {type:\"string\"}\n",
    "BUCKET_URI = f\"gs://{BUCKET_NAME}\""
   ]
  },
  {
   "cell_type": "code",
   "execution_count": 10,
   "metadata": {
    "id": "cf221059d072"
   },
   "outputs": [],
   "source": [
    "if BUCKET_NAME == \"\" or BUCKET_NAME is None or BUCKET_NAME == \"[your-bucket-name]\":\n",
    "    BUCKET_NAME = PROJECT_ID + \"aip-\" + UUID\n",
    "    BUCKET_URI = f\"gs://{BUCKET_NAME}\""
   ]
  },
  {
   "cell_type": "markdown",
   "metadata": {
    "id": "-EcIXiGsCePi"
   },
   "source": [
    "**Only if your bucket doesn't already exist**: Run the following cell to create your Cloud Storage bucket."
   ]
  },
  {
   "cell_type": "code",
   "execution_count": 11,
   "metadata": {
    "colab": {
     "base_uri": "https://localhost:8080/"
    },
    "id": "NIq7R4HZCfIc",
    "outputId": "6c094c4f-1015-410a-c838-b196c9bd6ffc"
   },
   "outputs": [
    {
     "name": "stdout",
     "output_type": "stream",
     "text": [
      "Creating gs://cicd-4ml_models/...\n",
      "ServiceException: 409 A Cloud Storage bucket named 'cicd-4ml_models' already exists. Try another name. Bucket names must be globally unique across all Google Cloud projects, including those outside of your organization.\n"
     ]
    }
   ],
   "source": [
    "! gsutil mb -l $REGION -p $PROJECT_ID $BUCKET_URI"
   ]
  },
  {
   "cell_type": "markdown",
   "metadata": {
    "id": "ucvCsknMCims"
   },
   "source": [
    "Finally, validate access to your Cloud Storage bucket by examining its contents:"
   ]
  },
  {
   "cell_type": "code",
   "execution_count": 12,
   "metadata": {
    "id": "vhOb7YnwClBb"
   },
   "outputs": [
    {
     "name": "stdout",
     "output_type": "stream",
     "text": [
      "        11  2022-10-15T15:20:16Z  gs://cicd-4ml_models/Dockerfile1#1665847216491993  metageneration=1\n",
      "       170  2022-10-15T15:25:01Z  gs://cicd-4ml_models/cloudbuild.yaml#1665847501679569  metageneration=1\n",
      "    184601  2022-10-15T16:38:36Z  gs://cicd-4ml_models/model.json#1665851916522348  metageneration=1\n",
      "    184601  2022-10-17T08:47:09Z  gs://cicd-4ml_models/model.json#1665996429477732  metageneration=1\n",
      "    184601  2022-10-17T16:04:59Z  gs://cicd-4ml_models/model.json#1666022699311857  metageneration=1\n",
      "TOTAL: 5 objects, 553984 bytes (541 KiB)\n"
     ]
    }
   ],
   "source": [
    "! gsutil ls -al $BUCKET_URI"
   ]
  },
  {
   "cell_type": "markdown",
   "metadata": {
    "id": "set_service_account"
   },
   "source": [
    "#### Service Account\n",
    "\n",
    "If you do not want to use your project's Compute Engine service account, set `SERVICE_ACCOUNT` to another service account ID."
   ]
  },
  {
   "cell_type": "code",
   "execution_count": 13,
   "metadata": {
    "id": "iGKYu3Qlld2V"
   },
   "outputs": [],
   "source": [
    "SERVICE_ACCOUNT = \"[your-service-account]\"  # @param {type:\"string\"}"
   ]
  },
  {
   "cell_type": "code",
   "execution_count": 14,
   "metadata": {
    "colab": {
     "base_uri": "https://localhost:8080/"
    },
    "id": "autoset_service_account",
    "outputId": "1e795cbc-14ac-45b8-c837-f7c2f01a7e61"
   },
   "outputs": [
    {
     "name": "stdout",
     "output_type": "stream",
     "text": [
      "Service Account: 1002168816574-compute@developer.gserviceaccount.com\n"
     ]
    }
   ],
   "source": [
    "if (\n",
    "    SERVICE_ACCOUNT == \"\"\n",
    "    or SERVICE_ACCOUNT is None\n",
    "    or SERVICE_ACCOUNT == \"[your-service-account]\"\n",
    "):\n",
    "    # Get your service account from gcloud\n",
    "    if not IS_COLAB:\n",
    "        shell_output = !gcloud auth list 2>/dev/null\n",
    "        SERVICE_ACCOUNT = shell_output[2].replace(\"*\", \"\").strip()\n",
    "\n",
    "    else:  # IS_COLAB:\n",
    "        shell_output = ! gcloud projects describe  $PROJECT_ID\n",
    "        project_number = shell_output[-1].split(\":\")[1].strip().replace(\"'\", \"\")\n",
    "        SERVICE_ACCOUNT = f\"{project_number}-compute@developer.gserviceaccount.com\"\n",
    "\n",
    "    print(\"Service Account:\", SERVICE_ACCOUNT)"
   ]
  },
  {
   "cell_type": "markdown",
   "metadata": {
    "id": "set_service_account:pipelines"
   },
   "source": [
    "#### Set service account access\n",
    "\n",
    "Run the following commands to grant your service account access to the bucket that you created in the previous step. You only need to run this step once per service account."
   ]
  },
  {
   "cell_type": "code",
   "execution_count": 15,
   "metadata": {
    "id": "FbyD-0pBld2V"
   },
   "outputs": [],
   "source": [
    "! gsutil iam ch serviceAccount:{SERVICE_ACCOUNT}:roles/storage.objectCreator $BUCKET_URI\n",
    "\n",
    "! gsutil iam ch serviceAccount:{SERVICE_ACCOUNT}:roles/storage.objectViewer $BUCKET_URI"
   ]
  },
  {
   "cell_type": "markdown",
   "metadata": {
    "id": "2ALI1Yuq0JIs"
   },
   "source": [
    "### Set project folder"
   ]
  },
  {
   "cell_type": "markdown",
   "metadata": {
    "id": "XoEqT2Y4DJmf"
   },
   "source": [
    "### Import libraries"
   ]
  },
  {
   "cell_type": "code",
   "execution_count": 16,
   "metadata": {
    "id": "pRUOFELefqf1"
   },
   "outputs": [],
   "source": [
    "# Training \n",
    "import json\n",
    "import numpy as np\n",
    "import pandas as pd\n",
    "from google.cloud import bigquery\n",
    "from sklearn.model_selection import train_test_split\n",
    "from xgboost import XGBClassifier\n",
    "from sklearn.metrics import classification_report"
   ]
  },
  {
   "cell_type": "markdown",
   "metadata": {
    "id": "EWUQoJiVpgwE"
   },
   "source": [
    "### Define constants"
   ]
  },
  {
   "cell_type": "code",
   "execution_count": 17,
   "metadata": {
    "id": "jSzH0za2pmQq"
   },
   "outputs": [],
   "source": [
    "BQ_PROJECT = 'bigquery-public-data'\n",
    "BQ_DATASET = 'ml_datasets'\n",
    "BQ_TABLE = 'ulb_fraud_detection'"
   ]
  },
  {
   "cell_type": "markdown",
   "metadata": {
    "id": "L3y_mlBHp60T"
   },
   "source": [
    "### Initialize BigQuery for Python\n",
    "\n",
    "Initialize the BigQuery SDK for Python for your project and corresponding bucket."
   ]
  },
  {
   "cell_type": "code",
   "execution_count": 18,
   "metadata": {
    "id": "rBTjjFqBp7UE"
   },
   "outputs": [],
   "source": [
    "bq_client = bigquery.Client(project = PROJECT_ID)"
   ]
  },
  {
   "cell_type": "markdown",
   "metadata": {
    "id": "init_aip:mbsdk,all"
   },
   "source": [
    "### Initialize Vertex AI SDK for Python\n",
    "\n",
    "Initialize the Vertex AI SDK for Python for your project and corresponding bucket."
   ]
  },
  {
   "cell_type": "code",
   "execution_count": 19,
   "metadata": {
    "id": "7iLPsy30ld2W"
   },
   "outputs": [],
   "source": [
    "aiplatform.init(project=PROJECT_ID, location=REGION, staging_bucket=BUCKET_URI)"
   ]
  },
  {
   "cell_type": "markdown",
   "metadata": {
    "id": "r-FDt10ZpJAx"
   },
   "source": [
    "## Train a ML model\n",
    "\n",
    "The steps will be\n",
    "\n",
    "*   Read the data from BigQuery\n",
    "*   Preprocess data \n",
    "*   Train a ML Model\n",
    "*   Store the ML Model on the bucket"
   ]
  },
  {
   "cell_type": "markdown",
   "metadata": {
    "id": "melinXbfpbou"
   },
   "source": [
    "### Read the data from BigQuery"
   ]
  },
  {
   "cell_type": "code",
   "execution_count": 20,
   "metadata": {
    "colab": {
     "base_uri": "https://localhost:8080/"
    },
    "id": "DdpllUpppetV",
    "outputId": "b364ad66-fa77-4d38-be29-2d4594c438e1"
   },
   "outputs": [],
   "source": [
    "query = f\"\"\"\n",
    "SELECT * \n",
    "FROM `{BQ_PROJECT}.{BQ_DATASET}.{BQ_TABLE}`\n",
    "\"\"\"\n",
    "raw_df = bq_client.query(query = query).to_dataframe()"
   ]
  },
  {
   "cell_type": "code",
   "execution_count": 21,
   "metadata": {
    "colab": {
     "base_uri": "https://localhost:8080/",
     "height": 300
    },
    "id": "wotD4EcYur9A",
    "outputId": "7741846b-dd03-4db0-9f85-3be38d768140"
   },
   "outputs": [
    {
     "data": {
      "text/html": [
       "<div>\n",
       "<style scoped>\n",
       "    .dataframe tbody tr th:only-of-type {\n",
       "        vertical-align: middle;\n",
       "    }\n",
       "\n",
       "    .dataframe tbody tr th {\n",
       "        vertical-align: top;\n",
       "    }\n",
       "\n",
       "    .dataframe thead th {\n",
       "        text-align: right;\n",
       "    }\n",
       "</style>\n",
       "<table border=\"1\" class=\"dataframe\">\n",
       "  <thead>\n",
       "    <tr style=\"text-align: right;\">\n",
       "      <th></th>\n",
       "      <th>Time</th>\n",
       "      <th>V1</th>\n",
       "      <th>V2</th>\n",
       "      <th>V3</th>\n",
       "      <th>V4</th>\n",
       "      <th>V5</th>\n",
       "      <th>V6</th>\n",
       "      <th>V7</th>\n",
       "      <th>V8</th>\n",
       "      <th>V9</th>\n",
       "      <th>...</th>\n",
       "      <th>V21</th>\n",
       "      <th>V22</th>\n",
       "      <th>V23</th>\n",
       "      <th>V24</th>\n",
       "      <th>V25</th>\n",
       "      <th>V26</th>\n",
       "      <th>V27</th>\n",
       "      <th>V28</th>\n",
       "      <th>Amount</th>\n",
       "      <th>Class</th>\n",
       "    </tr>\n",
       "  </thead>\n",
       "  <tbody>\n",
       "    <tr>\n",
       "      <th>0</th>\n",
       "      <td>282.0</td>\n",
       "      <td>-0.356466</td>\n",
       "      <td>0.725418</td>\n",
       "      <td>1.971749</td>\n",
       "      <td>0.831343</td>\n",
       "      <td>0.369681</td>\n",
       "      <td>-0.107776</td>\n",
       "      <td>0.751610</td>\n",
       "      <td>-0.120166</td>\n",
       "      <td>-0.420675</td>\n",
       "      <td>...</td>\n",
       "      <td>0.020804</td>\n",
       "      <td>0.424312</td>\n",
       "      <td>-0.015989</td>\n",
       "      <td>0.466754</td>\n",
       "      <td>-0.809962</td>\n",
       "      <td>0.657334</td>\n",
       "      <td>-0.043150</td>\n",
       "      <td>-0.046401</td>\n",
       "      <td>0.0</td>\n",
       "      <td>0</td>\n",
       "    </tr>\n",
       "    <tr>\n",
       "      <th>1</th>\n",
       "      <td>380.0</td>\n",
       "      <td>-1.299837</td>\n",
       "      <td>0.881817</td>\n",
       "      <td>1.452842</td>\n",
       "      <td>-1.293698</td>\n",
       "      <td>-0.025105</td>\n",
       "      <td>-1.170103</td>\n",
       "      <td>0.861610</td>\n",
       "      <td>-0.193934</td>\n",
       "      <td>0.592001</td>\n",
       "      <td>...</td>\n",
       "      <td>-0.272563</td>\n",
       "      <td>-0.360853</td>\n",
       "      <td>0.223911</td>\n",
       "      <td>0.598930</td>\n",
       "      <td>-0.397705</td>\n",
       "      <td>0.637141</td>\n",
       "      <td>0.234872</td>\n",
       "      <td>0.021379</td>\n",
       "      <td>0.0</td>\n",
       "      <td>0</td>\n",
       "    </tr>\n",
       "    <tr>\n",
       "      <th>2</th>\n",
       "      <td>820.0</td>\n",
       "      <td>-0.937481</td>\n",
       "      <td>0.401649</td>\n",
       "      <td>1.882689</td>\n",
       "      <td>-0.362001</td>\n",
       "      <td>0.751088</td>\n",
       "      <td>-0.899262</td>\n",
       "      <td>0.880557</td>\n",
       "      <td>-0.181650</td>\n",
       "      <td>-0.211657</td>\n",
       "      <td>...</td>\n",
       "      <td>-0.001757</td>\n",
       "      <td>0.097379</td>\n",
       "      <td>-0.324050</td>\n",
       "      <td>0.436521</td>\n",
       "      <td>0.509674</td>\n",
       "      <td>0.454116</td>\n",
       "      <td>-0.201804</td>\n",
       "      <td>-0.175439</td>\n",
       "      <td>0.0</td>\n",
       "      <td>0</td>\n",
       "    </tr>\n",
       "    <tr>\n",
       "      <th>3</th>\n",
       "      <td>1193.0</td>\n",
       "      <td>1.130646</td>\n",
       "      <td>0.625391</td>\n",
       "      <td>0.837987</td>\n",
       "      <td>2.506543</td>\n",
       "      <td>-0.107116</td>\n",
       "      <td>-0.245548</td>\n",
       "      <td>0.099603</td>\n",
       "      <td>-0.041457</td>\n",
       "      <td>-0.867319</td>\n",
       "      <td>...</td>\n",
       "      <td>-0.017154</td>\n",
       "      <td>-0.014311</td>\n",
       "      <td>0.086559</td>\n",
       "      <td>0.393496</td>\n",
       "      <td>0.332062</td>\n",
       "      <td>-0.066378</td>\n",
       "      <td>0.013858</td>\n",
       "      <td>0.025382</td>\n",
       "      <td>0.0</td>\n",
       "      <td>0</td>\n",
       "    </tr>\n",
       "    <tr>\n",
       "      <th>4</th>\n",
       "      <td>2371.0</td>\n",
       "      <td>-0.878833</td>\n",
       "      <td>0.133657</td>\n",
       "      <td>2.534047</td>\n",
       "      <td>2.609811</td>\n",
       "      <td>1.510839</td>\n",
       "      <td>2.075778</td>\n",
       "      <td>-0.384729</td>\n",
       "      <td>0.230300</td>\n",
       "      <td>-0.367956</td>\n",
       "      <td>...</td>\n",
       "      <td>-0.296422</td>\n",
       "      <td>-0.255485</td>\n",
       "      <td>-0.583298</td>\n",
       "      <td>-1.677514</td>\n",
       "      <td>0.050524</td>\n",
       "      <td>0.250409</td>\n",
       "      <td>-0.223149</td>\n",
       "      <td>-0.420764</td>\n",
       "      <td>0.0</td>\n",
       "      <td>0</td>\n",
       "    </tr>\n",
       "  </tbody>\n",
       "</table>\n",
       "<p>5 rows × 31 columns</p>\n",
       "</div>"
      ],
      "text/plain": [
       "     Time        V1        V2        V3        V4        V5        V6  \\\n",
       "0   282.0 -0.356466  0.725418  1.971749  0.831343  0.369681 -0.107776   \n",
       "1   380.0 -1.299837  0.881817  1.452842 -1.293698 -0.025105 -1.170103   \n",
       "2   820.0 -0.937481  0.401649  1.882689 -0.362001  0.751088 -0.899262   \n",
       "3  1193.0  1.130646  0.625391  0.837987  2.506543 -0.107116 -0.245548   \n",
       "4  2371.0 -0.878833  0.133657  2.534047  2.609811  1.510839  2.075778   \n",
       "\n",
       "         V7        V8        V9  ...       V21       V22       V23       V24  \\\n",
       "0  0.751610 -0.120166 -0.420675  ...  0.020804  0.424312 -0.015989  0.466754   \n",
       "1  0.861610 -0.193934  0.592001  ... -0.272563 -0.360853  0.223911  0.598930   \n",
       "2  0.880557 -0.181650 -0.211657  ... -0.001757  0.097379 -0.324050  0.436521   \n",
       "3  0.099603 -0.041457 -0.867319  ... -0.017154 -0.014311  0.086559  0.393496   \n",
       "4 -0.384729  0.230300 -0.367956  ... -0.296422 -0.255485 -0.583298 -1.677514   \n",
       "\n",
       "        V25       V26       V27       V28  Amount  Class  \n",
       "0 -0.809962  0.657334 -0.043150 -0.046401     0.0      0  \n",
       "1 -0.397705  0.637141  0.234872  0.021379     0.0      0  \n",
       "2  0.509674  0.454116 -0.201804 -0.175439     0.0      0  \n",
       "3  0.332062 -0.066378  0.013858  0.025382     0.0      0  \n",
       "4  0.050524  0.250409 -0.223149 -0.420764     0.0      0  \n",
       "\n",
       "[5 rows x 31 columns]"
      ]
     },
     "execution_count": 21,
     "metadata": {},
     "output_type": "execute_result"
    }
   ],
   "source": [
    "raw_df.head()"
   ]
  },
  {
   "cell_type": "markdown",
   "metadata": {
    "id": "zMVFsvjRsOGw"
   },
   "source": [
    "### Preprocess data "
   ]
  },
  {
   "cell_type": "code",
   "execution_count": 22,
   "metadata": {
    "id": "GyBIB9aasJuq"
   },
   "outputs": [],
   "source": [
    "target = 'Class'\n",
    "predictors = ['V1', 'V2', 'V3', 'V4', 'V5', 'V6', 'V7', 'V8', 'V9', 'V10',\n",
    "              'V11', 'V12', 'V13', 'V14', 'V15', 'V16', 'V17', 'V18', 'V19',\n",
    "              'V20', 'V21', 'V22', 'V23', 'V24', 'V25', 'V26', 'V27', 'V28',\n",
    "              'Amount']\n",
    "\n",
    "y = raw_df[target]\n",
    "X = raw_df[predictors]\n",
    "X_train, X_test, y_train, y_test = train_test_split(X, y, test_size=0.2, random_state=8, shuffle=True)"
   ]
  },
  {
   "cell_type": "markdown",
   "metadata": {
    "id": "isRVuYIAtXiI"
   },
   "source": [
    "### Train the model"
   ]
  },
  {
   "cell_type": "code",
   "execution_count": 25,
   "metadata": {
    "colab": {
     "base_uri": "https://localhost:8080/"
    },
    "id": "WB0AyAPwta81",
    "outputId": "b35ce55a-431d-4cda-e89d-ac80bb5128f2"
   },
   "outputs": [
    {
     "name": "stdout",
     "output_type": "stream",
     "text": [
      "[0]\tvalidation_0-auc:0.90272\tvalidation_0-error:0.00070\tvalidation_0-logloss:0.43806\n",
      "[1]\tvalidation_0-auc:0.90274\tvalidation_0-error:0.00067\tvalidation_0-logloss:0.29718\n",
      "[2]\tvalidation_0-auc:0.90756\tvalidation_0-error:0.00063\tvalidation_0-logloss:0.20845\n",
      "[3]\tvalidation_0-auc:0.90757\tvalidation_0-error:0.00061\tvalidation_0-logloss:0.14910\n",
      "[4]\tvalidation_0-auc:0.90757\tvalidation_0-error:0.00065\tvalidation_0-logloss:0.10806\n",
      "[5]\tvalidation_0-auc:0.90756\tvalidation_0-error:0.00061\tvalidation_0-logloss:0.07909\n",
      "[6]\tvalidation_0-auc:0.90755\tvalidation_0-error:0.00060\tvalidation_0-logloss:0.05836\n",
      "[7]\tvalidation_0-auc:0.90755\tvalidation_0-error:0.00060\tvalidation_0-logloss:0.04339\n",
      "[8]\tvalidation_0-auc:0.90749\tvalidation_0-error:0.00060\tvalidation_0-logloss:0.03251\n",
      "[9]\tvalidation_0-auc:0.90713\tvalidation_0-error:0.00058\tvalidation_0-logloss:0.02460\n",
      "[10]\tvalidation_0-auc:0.90712\tvalidation_0-error:0.00058\tvalidation_0-logloss:0.01882\n",
      "[11]\tvalidation_0-auc:0.92858\tvalidation_0-error:0.00058\tvalidation_0-logloss:0.01457\n",
      "[12]\tvalidation_0-auc:0.94466\tvalidation_0-error:0.00054\tvalidation_0-logloss:0.01143\n",
      "[13]\tvalidation_0-auc:0.94477\tvalidation_0-error:0.00056\tvalidation_0-logloss:0.00917\n",
      "[14]\tvalidation_0-auc:0.94731\tvalidation_0-error:0.00053\tvalidation_0-logloss:0.00751\n",
      "[15]\tvalidation_0-auc:0.95183\tvalidation_0-error:0.00053\tvalidation_0-logloss:0.00628\n",
      "[16]\tvalidation_0-auc:0.95243\tvalidation_0-error:0.00053\tvalidation_0-logloss:0.00539\n",
      "[17]\tvalidation_0-auc:0.95069\tvalidation_0-error:0.00053\tvalidation_0-logloss:0.00475\n",
      "[18]\tvalidation_0-auc:0.95079\tvalidation_0-error:0.00053\tvalidation_0-logloss:0.00428\n",
      "[19]\tvalidation_0-auc:0.95068\tvalidation_0-error:0.00053\tvalidation_0-logloss:0.00396\n",
      "[20]\tvalidation_0-auc:0.96105\tvalidation_0-error:0.00053\tvalidation_0-logloss:0.00373\n",
      "[21]\tvalidation_0-auc:0.96683\tvalidation_0-error:0.00053\tvalidation_0-logloss:0.00354\n",
      "[22]\tvalidation_0-auc:0.97225\tvalidation_0-error:0.00049\tvalidation_0-logloss:0.00341\n",
      "[23]\tvalidation_0-auc:0.96712\tvalidation_0-error:0.00051\tvalidation_0-logloss:0.00331\n",
      "[24]\tvalidation_0-auc:0.97158\tvalidation_0-error:0.00051\tvalidation_0-logloss:0.00322\n",
      "[25]\tvalidation_0-auc:0.97114\tvalidation_0-error:0.00051\tvalidation_0-logloss:0.00320\n",
      "[26]\tvalidation_0-auc:0.97212\tvalidation_0-error:0.00053\tvalidation_0-logloss:0.00316\n",
      "[27]\tvalidation_0-auc:0.96663\tvalidation_0-error:0.00051\tvalidation_0-logloss:0.00317\n",
      "[28]\tvalidation_0-auc:0.96601\tvalidation_0-error:0.00051\tvalidation_0-logloss:0.00317\n",
      "[29]\tvalidation_0-auc:0.96634\tvalidation_0-error:0.00051\tvalidation_0-logloss:0.00319\n",
      "[30]\tvalidation_0-auc:0.96562\tvalidation_0-error:0.00051\tvalidation_0-logloss:0.00320\n",
      "[31]\tvalidation_0-auc:0.96662\tvalidation_0-error:0.00051\tvalidation_0-logloss:0.00325\n",
      "[32]\tvalidation_0-auc:0.96798\tvalidation_0-error:0.00051\tvalidation_0-logloss:0.00323\n",
      "[33]\tvalidation_0-auc:0.96881\tvalidation_0-error:0.00051\tvalidation_0-logloss:0.00324\n",
      "[34]\tvalidation_0-auc:0.97023\tvalidation_0-error:0.00051\tvalidation_0-logloss:0.00321\n",
      "[35]\tvalidation_0-auc:0.96968\tvalidation_0-error:0.00047\tvalidation_0-logloss:0.00323\n",
      "[36]\tvalidation_0-auc:0.97105\tvalidation_0-error:0.00047\tvalidation_0-logloss:0.00323\n",
      "[37]\tvalidation_0-auc:0.96957\tvalidation_0-error:0.00051\tvalidation_0-logloss:0.00325\n",
      "[38]\tvalidation_0-auc:0.96906\tvalidation_0-error:0.00053\tvalidation_0-logloss:0.00328\n",
      "[39]\tvalidation_0-auc:0.97030\tvalidation_0-error:0.00049\tvalidation_0-logloss:0.00328\n",
      "[40]\tvalidation_0-auc:0.97131\tvalidation_0-error:0.00049\tvalidation_0-logloss:0.00328\n",
      "[41]\tvalidation_0-auc:0.97109\tvalidation_0-error:0.00049\tvalidation_0-logloss:0.00331\n",
      "[42]\tvalidation_0-auc:0.97105\tvalidation_0-error:0.00047\tvalidation_0-logloss:0.00333\n",
      "[43]\tvalidation_0-auc:0.97168\tvalidation_0-error:0.00049\tvalidation_0-logloss:0.00334\n",
      "[44]\tvalidation_0-auc:0.97152\tvalidation_0-error:0.00049\tvalidation_0-logloss:0.00336\n",
      "[45]\tvalidation_0-auc:0.97139\tvalidation_0-error:0.00049\tvalidation_0-logloss:0.00337\n",
      "[46]\tvalidation_0-auc:0.97110\tvalidation_0-error:0.00049\tvalidation_0-logloss:0.00338\n",
      "[47]\tvalidation_0-auc:0.97124\tvalidation_0-error:0.00049\tvalidation_0-logloss:0.00340\n",
      "[48]\tvalidation_0-auc:0.97189\tvalidation_0-error:0.00049\tvalidation_0-logloss:0.00340\n",
      "[49]\tvalidation_0-auc:0.97298\tvalidation_0-error:0.00051\tvalidation_0-logloss:0.00340\n",
      "[50]\tvalidation_0-auc:0.97374\tvalidation_0-error:0.00051\tvalidation_0-logloss:0.00342\n",
      "[51]\tvalidation_0-auc:0.97458\tvalidation_0-error:0.00051\tvalidation_0-logloss:0.00341\n",
      "[52]\tvalidation_0-auc:0.97437\tvalidation_0-error:0.00051\tvalidation_0-logloss:0.00342\n",
      "[53]\tvalidation_0-auc:0.97360\tvalidation_0-error:0.00049\tvalidation_0-logloss:0.00346\n",
      "[54]\tvalidation_0-auc:0.97412\tvalidation_0-error:0.00049\tvalidation_0-logloss:0.00347\n",
      "[55]\tvalidation_0-auc:0.97445\tvalidation_0-error:0.00051\tvalidation_0-logloss:0.00350\n"
     ]
    },
    {
     "data": {
      "text/plain": [
       "XGBClassifier(base_score=0.5, booster='gbtree', callbacks=None,\n",
       "              colsample_bylevel=1, colsample_bynode=1, colsample_bytree=1,\n",
       "              early_stopping_rounds=30, enable_categorical=False,\n",
       "              eval_metric=['auc', 'error', 'logloss'], gamma=0, gpu_id=-1,\n",
       "              grow_policy='depthwise', importance_type=None,\n",
       "              interaction_constraints='', learning_rate=0.300000012,\n",
       "              max_bin=256, max_cat_to_onehot=4, max_delta_step=0, max_depth=6,\n",
       "              max_leaves=0, min_child_weight=1, missing=nan,\n",
       "              monotone_constraints='()', n_estimators=100, n_jobs=0,\n",
       "              num_parallel_tree=1, predictor='auto', random_state=0,\n",
       "              reg_alpha=0, reg_lambda=1, ...)"
      ]
     },
     "execution_count": 25,
     "metadata": {},
     "output_type": "execute_result"
    }
   ],
   "source": [
    "clf = XGBClassifier(\n",
    "    objective='binary:logistic', \n",
    "    eval_metric=['auc','error','logloss'],\n",
    "    early_stopping_rounds=30,\n",
    "    )\n",
    "clf.fit(X_train, y_train, eval_set=[(X_test, y_test)])"
   ]
  },
  {
   "cell_type": "markdown",
   "metadata": {
    "id": "YwNaMvdPts5k"
   },
   "source": [
    "### Evaluate the model"
   ]
  },
  {
   "cell_type": "code",
   "execution_count": 26,
   "metadata": {
    "colab": {
     "base_uri": "https://localhost:8080/"
    },
    "id": "TdiP-oKltySX",
    "outputId": "025e559a-d821-4487-fae2-134ba2565886"
   },
   "outputs": [
    {
     "name": "stdout",
     "output_type": "stream",
     "text": [
      "              precision    recall  f1-score   support\n",
      "\n",
      "     NoFraud       1.00      1.00      1.00     56859\n",
      "       Fraud       0.93      0.77      0.84       103\n",
      "\n",
      "    accuracy                           1.00     56962\n",
      "   macro avg       0.96      0.88      0.92     56962\n",
      "weighted avg       1.00      1.00      1.00     56962\n",
      "\n"
     ]
    }
   ],
   "source": [
    "y_pred = clf.predict(X_test)\n",
    "target_names = ['NoFraud', 'Fraud']\n",
    "print(classification_report(y_test, y_pred, target_names=target_names))\n"
   ]
  },
  {
   "cell_type": "markdown",
   "metadata": {
    "id": "cldBFQkezwez"
   },
   "source": [
    "### Save the model"
   ]
  },
  {
   "cell_type": "code",
   "execution_count": 27,
   "metadata": {
    "id": "z5uAFqDXzz8b"
   },
   "outputs": [],
   "source": [
    "clf.save_model(\"model.json\")"
   ]
  },
  {
   "cell_type": "markdown",
   "metadata": {
    "id": "awGTDqHn0wGw",
    "tags": []
   },
   "source": [
    "### Test the model"
   ]
  },
  {
   "cell_type": "code",
   "execution_count": 29,
   "metadata": {
    "colab": {
     "base_uri": "https://localhost:8080/"
    },
    "id": "ZR4bet_90zN4",
    "outputId": "d3f064a2-a76e-47ea-d753-6d7822897fff"
   },
   "outputs": [
    {
     "name": "stdout",
     "output_type": "stream",
     "text": [
      "My prediction:  [0]\n"
     ]
    }
   ],
   "source": [
    "req = \"\"\"{\"instances\" : [\n",
    "  {\"V1\":-0.356,\"V2\":0.725,\"V3\":1.972,\"V4\":0.831,\"V5\":0.37,\"V6\":-0.108, \"V7\":0.752,\"V8\":-0.12,\"V9\":-0.421,\"V10\":-0.06,\"V11\":-0.508,\"V12\":0.426, \"V13\":0.414,\"V14\":-0.698,\"V15\":-1.465,\"V16\":-0.119,\"V17\":-0.145,\"V18\":-1.332, \"V19\":-1.547,\"V20\":-0.134,\"V21\":0.021,\"V22\":0.424,\"V23\":-0.016,\"V24\":0.467, \"V25\":-0.81,\"V26\":0.657,\"V27\":-0.043,\"V28\":-0.046,\"Amount\":0.0}\n",
    "]}\"\"\"\n",
    "req_dict = json.loads(req)[\"instances\"]\n",
    "req_df = pd.DataFrame.from_records(req_dict)\n",
    "clf = XGBClassifier()\n",
    "clf.load_model(\"model.json\")\n",
    "print(\"My prediction: \", clf.predict(req_df))"
   ]
  },
  {
   "cell_type": "markdown",
   "metadata": {},
   "source": [
    "### Version the model in Google Cloud storage"
   ]
  },
  {
   "cell_type": "code",
   "execution_count": null,
   "metadata": {},
   "outputs": [],
   "source": [
    "!gsutil cp model.json $BUCKET_URI/model.json"
   ]
  },
  {
   "cell_type": "markdown",
   "metadata": {
    "id": "TpV-iwP9qw9c"
   },
   "source": [
    "## Cleaning up\n",
    "\n",
    "To clean up all Google Cloud resources used in this project, you can [delete the Google Cloud\n",
    "project](https://cloud.google.com/resource-manager/docs/creating-managing-projects#shutting_down_projects) you used for the tutorial.\n",
    "\n",
    "Otherwise, you can delete the individual resources you created in this tutorial"
   ]
  },
  {
   "cell_type": "code",
   "execution_count": null,
   "metadata": {
    "id": "sx_vKniMq9ZX"
   },
   "outputs": [],
   "source": [
    "delete_bucket = False\n",
    "if delete_bucket or os.getenv(\"IS_TESTING\"):\n",
    "    ! gsutil -m rm -r $BUCKET_URI"
   ]
  }
 ],
 "metadata": {
  "colab": {
   "collapsed_sections": [],
   "provenance": []
  },
  "environment": {
   "kernel": "python3",
   "name": "common-cpu.m97",
   "type": "gcloud",
   "uri": "gcr.io/deeplearning-platform-release/base-cpu:m97"
  },
  "kernelspec": {
   "display_name": "Python 3",
   "language": "python",
   "name": "python3"
  },
  "language_info": {
   "codemirror_mode": {
    "name": "ipython",
    "version": 3
   },
   "file_extension": ".py",
   "mimetype": "text/x-python",
   "name": "python",
   "nbconvert_exporter": "python",
   "pygments_lexer": "ipython3",
   "version": "3.7.12"
  }
 },
 "nbformat": 4,
 "nbformat_minor": 4
}
